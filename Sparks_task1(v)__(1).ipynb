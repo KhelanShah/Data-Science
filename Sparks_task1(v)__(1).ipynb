{
  "nbformat": 4,
  "nbformat_minor": 0,
  "metadata": {
    "colab": {
      "name": "Sparks_task1(v)_ (1).ipynb",
      "provenance": [],
      "collapsed_sections": [],
      "include_colab_link": true
    },
    "kernelspec": {
      "display_name": "Python 3",
      "name": "python3"
    }
  },
  "cells": [
    {
      "cell_type": "markdown",
      "metadata": {
        "id": "view-in-github",
        "colab_type": "text"
      },
      "source": [
        "<a href=\"https://colab.research.google.com/github/KhelanShah/Data-Science/blob/main/Sparks_task1(v)__(1).ipynb\" target=\"_parent\"><img src=\"https://colab.research.google.com/assets/colab-badge.svg\" alt=\"Open In Colab\"/></a>"
      ]
    },
    {
      "cell_type": "markdown",
      "metadata": {
        "id": "tqQrIhH6tcvt"
      },
      "source": [
        "<h1><b>THE SPARKS FOUNDATION Data Science And Business Analysis Tasks Intern </b></h1>\n",
        "\n",
        "<h2><b>Task-1 Prediction Using Supervised ML</b></h2>\n",
        "\n",
        "<h2><b>BY KHELAN SHAH</b></h2>\n",
        "\n"
      ]
    },
    {
      "cell_type": "markdown",
      "metadata": {
        "id": "vTSIcBc_PQoE"
      },
      "source": [
        "<h2><b>Statement 1- Predict the percentage of students based on the number of study hours.</b></h2>"
      ]
    },
    {
      "cell_type": "markdown",
      "metadata": {
        "id": "53hytU5KtpjD"
      },
      "source": [
        "# <h5><b>Step:1 The first step is to import the libraries that are required for the implementation of the code operation.  Here we import the Pandas to import and analyze data, NumPy to perform the multi-dimensional operation, and matplotlib to perform graphical plot into the context.</b></h5>"
      ]
    },
    {
      "cell_type": "code",
      "metadata": {
        "colab": {
          "background_save": true
        },
        "id": "pqE4ZvKZt7Tc"
      },
      "source": [
        "import pandas as pd\n",
        "import numpy as np\n",
        "import matplotlib.pyplot as plt\n",
        "%matplotlib inline"
      ],
      "execution_count": null,
      "outputs": []
    },
    {
      "cell_type": "markdown",
      "metadata": {
        "id": "oM9lftmevn4D"
      },
      "source": [
        "<h5><b>Step:2 Import the Dataset</b></h5>"
      ]
    },
    {
      "cell_type": "code",
      "metadata": {
        "colab": {
          "base_uri": "https://localhost:8080/",
          "height": 314
        },
        "id": "2HFAs_Wzvoov",
        "outputId": "a37fa22f-e24b-48c6-d3b9-72e9ec60785b"
      },
      "source": [
        "url = \"http://bit.ly/w-data\"\n",
        "df = pd.read_csv(url)\n",
        "print(\"Data imported successfully\")\n",
        "\n",
        "df.head(25)\n",
        "df.describe()"
      ],
      "execution_count": null,
      "outputs": [
        {
          "output_type": "stream",
          "text": [
            "Data imported successfully\n"
          ],
          "name": "stdout"
        },
        {
          "output_type": "execute_result",
          "data": {
            "text/html": [
              "<div>\n",
              "<style scoped>\n",
              "    .dataframe tbody tr th:only-of-type {\n",
              "        vertical-align: middle;\n",
              "    }\n",
              "\n",
              "    .dataframe tbody tr th {\n",
              "        vertical-align: top;\n",
              "    }\n",
              "\n",
              "    .dataframe thead th {\n",
              "        text-align: right;\n",
              "    }\n",
              "</style>\n",
              "<table border=\"1\" class=\"dataframe\">\n",
              "  <thead>\n",
              "    <tr style=\"text-align: right;\">\n",
              "      <th></th>\n",
              "      <th>Hours</th>\n",
              "      <th>Scores</th>\n",
              "    </tr>\n",
              "  </thead>\n",
              "  <tbody>\n",
              "    <tr>\n",
              "      <th>count</th>\n",
              "      <td>25.000000</td>\n",
              "      <td>25.000000</td>\n",
              "    </tr>\n",
              "    <tr>\n",
              "      <th>mean</th>\n",
              "      <td>5.012000</td>\n",
              "      <td>51.480000</td>\n",
              "    </tr>\n",
              "    <tr>\n",
              "      <th>std</th>\n",
              "      <td>2.525094</td>\n",
              "      <td>25.286887</td>\n",
              "    </tr>\n",
              "    <tr>\n",
              "      <th>min</th>\n",
              "      <td>1.100000</td>\n",
              "      <td>17.000000</td>\n",
              "    </tr>\n",
              "    <tr>\n",
              "      <th>25%</th>\n",
              "      <td>2.700000</td>\n",
              "      <td>30.000000</td>\n",
              "    </tr>\n",
              "    <tr>\n",
              "      <th>50%</th>\n",
              "      <td>4.800000</td>\n",
              "      <td>47.000000</td>\n",
              "    </tr>\n",
              "    <tr>\n",
              "      <th>75%</th>\n",
              "      <td>7.400000</td>\n",
              "      <td>75.000000</td>\n",
              "    </tr>\n",
              "    <tr>\n",
              "      <th>max</th>\n",
              "      <td>9.200000</td>\n",
              "      <td>95.000000</td>\n",
              "    </tr>\n",
              "  </tbody>\n",
              "</table>\n",
              "</div>"
            ],
            "text/plain": [
              "           Hours     Scores\n",
              "count  25.000000  25.000000\n",
              "mean    5.012000  51.480000\n",
              "std     2.525094  25.286887\n",
              "min     1.100000  17.000000\n",
              "25%     2.700000  30.000000\n",
              "50%     4.800000  47.000000\n",
              "75%     7.400000  75.000000\n",
              "max     9.200000  95.000000"
            ]
          },
          "metadata": {
            "tags": []
          },
          "execution_count": 70
        }
      ]
    },
    {
      "cell_type": "code",
      "metadata": {
        "colab": {
          "base_uri": "https://localhost:8080/"
        },
        "id": "PPa7jVwGwAxM",
        "outputId": "f72fba74-fc45-40f3-ce07-605300c64908"
      },
      "source": [
        "df.shape"
      ],
      "execution_count": null,
      "outputs": [
        {
          "output_type": "execute_result",
          "data": {
            "text/plain": [
              "(25, 2)"
            ]
          },
          "metadata": {
            "tags": []
          },
          "execution_count": 71
        }
      ]
    },
    {
      "cell_type": "code",
      "metadata": {
        "colab": {
          "base_uri": "https://localhost:8080/",
          "height": 204
        },
        "id": "hgkA3-TTwPfZ",
        "outputId": "4b5f0801-34ec-44d6-c749-3907b2908e0c"
      },
      "source": [
        "df.head()"
      ],
      "execution_count": null,
      "outputs": [
        {
          "output_type": "execute_result",
          "data": {
            "text/html": [
              "<div>\n",
              "<style scoped>\n",
              "    .dataframe tbody tr th:only-of-type {\n",
              "        vertical-align: middle;\n",
              "    }\n",
              "\n",
              "    .dataframe tbody tr th {\n",
              "        vertical-align: top;\n",
              "    }\n",
              "\n",
              "    .dataframe thead th {\n",
              "        text-align: right;\n",
              "    }\n",
              "</style>\n",
              "<table border=\"1\" class=\"dataframe\">\n",
              "  <thead>\n",
              "    <tr style=\"text-align: right;\">\n",
              "      <th></th>\n",
              "      <th>Hours</th>\n",
              "      <th>Scores</th>\n",
              "    </tr>\n",
              "  </thead>\n",
              "  <tbody>\n",
              "    <tr>\n",
              "      <th>0</th>\n",
              "      <td>2.5</td>\n",
              "      <td>21</td>\n",
              "    </tr>\n",
              "    <tr>\n",
              "      <th>1</th>\n",
              "      <td>5.1</td>\n",
              "      <td>47</td>\n",
              "    </tr>\n",
              "    <tr>\n",
              "      <th>2</th>\n",
              "      <td>3.2</td>\n",
              "      <td>27</td>\n",
              "    </tr>\n",
              "    <tr>\n",
              "      <th>3</th>\n",
              "      <td>8.5</td>\n",
              "      <td>75</td>\n",
              "    </tr>\n",
              "    <tr>\n",
              "      <th>4</th>\n",
              "      <td>3.5</td>\n",
              "      <td>30</td>\n",
              "    </tr>\n",
              "  </tbody>\n",
              "</table>\n",
              "</div>"
            ],
            "text/plain": [
              "   Hours  Scores\n",
              "0    2.5      21\n",
              "1    5.1      47\n",
              "2    3.2      27\n",
              "3    8.5      75\n",
              "4    3.5      30"
            ]
          },
          "metadata": {
            "tags": []
          },
          "execution_count": 72
        }
      ]
    },
    {
      "cell_type": "markdown",
      "metadata": {
        "id": "JGgMuprWwb_3"
      },
      "source": [
        "<h5><b>Step:3 Visualizing the dataset by finding relationship between data points with graphical respresentation.</h5></b>"
      ]
    },
    {
      "cell_type": "code",
      "metadata": {
        "colab": {
          "base_uri": "https://localhost:8080/",
          "height": 295
        },
        "id": "BTffExS5wc6o",
        "outputId": "d4e1ab23-24fb-4e8a-e173-c1f44bb61f59"
      },
      "source": [
        "df.plot(x= \"Hours\", y=\"Scores\",style= \"o\" ,c=\"r\")\n",
        "plt.xlabel(\"Hours Studied\")\n",
        "plt.ylabel(\"Score in percentage\")\n",
        "plt.title(\"Hours VS Scores\")\n",
        "plt.show()\n"
      ],
      "execution_count": null,
      "outputs": [
        {
          "output_type": "display_data",
          "data": {
            "image/png": "[encoded data removed]",
            "text/plain": [
              "<Figure size 432x288 with 1 Axes>"
            ]
          },
          "metadata": {
            "tags": []
          }
        }
      ]
    },
    {
      "cell_type": "markdown",
      "metadata": {
        "id": "BOjB6yJ5xaul"
      },
      "source": [
        "#### Relationship:Therefore a positive Linear Regression is observed.\n"
      ]
    },
    {
      "cell_type": "markdown",
      "metadata": {
        "id": "cGUPPlqT0Cv_"
      },
      "source": [
        "\n",
        "<h5><b>Step:4 Splitting the dataset into training and testing models</b></h5>"
      ]
    },
    {
      "cell_type": "code",
      "metadata": {
        "id": "2DGJdJKSBuGI"
      },
      "source": [
        "msk = np.random.rand(len(df)) < 0.8\n",
        "train = df[msk]\n",
        "test = df[~msk]"
      ],
      "execution_count": null,
      "outputs": []
    },
    {
      "cell_type": "markdown",
      "metadata": {
        "id": "xF6IH4XnB5fN"
      },
      "source": [
        "<h5><b>Step:5 Visualization of the training data</b></h5>"
      ]
    },
    {
      "cell_type": "code",
      "metadata": {
        "colab": {
          "base_uri": "https://localhost:8080/",
          "height": 279
        },
        "id": "ISOEWZLb01AL",
        "outputId": "4e4d4362-5193-4f37-d17a-7759f3736aae"
      },
      "source": [
        "plt.scatter(train.Hours,train.Scores,color='green')\n",
        "plt.xlabel('Study hours')\n",
        "plt.ylabel('Marks scored')\n",
        "plt.show()"
      ],
      "execution_count": null,
      "outputs": [
        {
          "output_type": "display_data",
          "data": {
            "image/png": "[encoded data removed]",
            "text/plain": [
              "<Figure size 432x288 with 1 Axes>"
            ]
          },
          "metadata": {
            "tags": []
          }
        }
      ]
    },
    {
      "cell_type": "markdown",
      "metadata": {
        "id": "FN1sWbesCdhj"
      },
      "source": [
        "<b><h5>Step:6 Training the model using Simple Linear Regression</b></h5>"
      ]
    },
    {
      "cell_type": "code",
      "metadata": {
        "colab": {
          "base_uri": "https://localhost:8080/"
        },
        "id": "q8OgeeUIC1QM",
        "outputId": "14aaaaad-5d02-4ced-cb39-326e4af5a1f5"
      },
      "source": [
        "from sklearn import linear_model\n",
        "reg = linear_model.LinearRegression()\n",
        "train_x=np.asanyarray(train[['Hours']])\n",
        "train_y=np.asanyarray(train[['Scores']])\n",
        "reg.fit(train_x,train_y)\n",
        "print ('Coefficients: ', reg.coef_)\n",
        "print ('Intercept: ',reg.intercept_)"
      ],
      "execution_count": null,
      "outputs": [
        {
          "output_type": "stream",
          "text": [
            "Coefficients:  [[10.08474576]]\n",
            "Intercept:  [0.29096045]\n"
          ],
          "name": "stdout"
        }
      ]
    },
    {
      "cell_type": "code",
      "metadata": {
        "colab": {
          "base_uri": "https://localhost:8080/"
        },
        "id": "rLk5OtVL2E6L",
        "outputId": "0a6dc5c0-e80f-4aad-a8ee-a3cbf26f5bfa"
      },
      "source": [
        "print(\"Training has been successfully completed!\")"
      ],
      "execution_count": null,
      "outputs": [
        {
          "output_type": "stream",
          "text": [
            "Training has been successfully completed!\n"
          ],
          "name": "stdout"
        }
      ]
    },
    {
      "cell_type": "markdown",
      "metadata": {
        "id": "jXzOtK3q3JI9"
      },
      "source": [
        "<b><h5>Step:6 Let's plot the regression line.</b></h5>"
      ]
    },
    {
      "cell_type": "code",
      "metadata": {
        "colab": {
          "base_uri": "https://localhost:8080/",
          "height": 279
        },
        "id": "Bl0YVFmf3RWX",
        "outputId": "58533a53-b149-490f-e19d-78c987631716"
      },
      "source": [
        "plt.scatter(train.Hours, train.Scores,  color='blue')\n",
        "plt.plot(train_x, reg.coef_[0][0]*train_x + reg.intercept_[0], '-r')\n",
        "plt.xlabel('Study hours')\n",
        "plt.ylabel('Marks scored')\n",
        "plt.show()"
      ],
      "execution_count": null,
      "outputs": [
        {
          "output_type": "display_data",
          "data": {
            "image/png": "[encoded data removed]",
            "text/plain": [
              "<Figure size 432x288 with 1 Axes>"
            ]
          },
          "metadata": {
            "tags": []
          }
        }
      ]
    },
    {
      "cell_type": "markdown",
      "metadata": {
        "id": "hLwVu6Tk4BIJ"
      },
      "source": [
        "<b><h5>Step:7 Now let's make predictions.</b></h5>\n",
        "\n"
      ]
    },
    {
      "cell_type": "code",
      "metadata": {
        "colab": {
          "base_uri": "https://localhost:8080/"
        },
        "id": "PzSiOIoH4Jj2",
        "outputId": "187534cb-a35c-4796-b2ef-d28736a260ef"
      },
      "source": [
        "test_x = np.asanyarray(test[['Hours']])\n",
        "test_y = np.asanyarray(test[['Scores']])\n",
        "test_y_ = reg.predict(test_x)\n",
        "print(test_y_)"
      ],
      "execution_count": null,
      "outputs": [
        {
          "output_type": "stream",
          "text": [
            "[[15.4180791 ]\n",
            " [25.50282486]\n",
            " [19.4519774 ]\n",
            " [27.51977401]]\n"
          ],
          "name": "stdout"
        }
      ]
    },
    {
      "cell_type": "markdown",
      "metadata": {
        "id": "CEicp42y6hlX"
      },
      "source": [
        "<b><h2>Evaluating the model</b></h2>"
      ]
    },
    {
      "cell_type": "markdown",
      "metadata": {
        "id": "lSKCxaz06nHr"
      },
      "source": [
        "#### The final step is to evaluate the performance of algorithm. This step is particularly important to compare how well different algorithms perform on a particular dataset. For simplicity here, we have chosen the mean square error. There are many such metrics."
      ]
    },
    {
      "cell_type": "markdown",
      "metadata": {
        "id": "V4w9OYMR4gNC"
      },
      "source": [
        "\n",
        "<b><h5>Step:8 Evaluating mean absolute error</b></h5>"
      ]
    },
    {
      "cell_type": "code",
      "metadata": {
        "colab": {
          "base_uri": "https://localhost:8080/"
        },
        "id": "8v4BP7vx4jl8",
        "outputId": "2291f00c-f5ad-4762-898a-6a50505c1fcb"
      },
      "source": [
        "from sklearn.metrics import r2_score\n",
        "print(\"Mean absolute error: %.2f\" % np.mean(np.absolute(test_y_ - test_y)))\n",
        "print(\"Residual sum of squares (MSE): %.2f\" % np.mean((test_y_ - test_y) ** 2))\n",
        "print(\"R2-score: %.2f\" % r2_score(test_y , test_y_) )"
      ],
      "execution_count": null,
      "outputs": [
        {
          "output_type": "stream",
          "text": [
            "Mean absolute error: 4.03\n",
            "Residual sum of squares (MSE): 17.01\n",
            "R2-score: 0.05\n"
          ],
          "name": "stdout"
        }
      ]
    },
    {
      "cell_type": "markdown",
      "metadata": {
        "id": "bw2nvJsW4rGP"
      },
      "source": [
        "<h2><b>Statement 2- Predict the score if student studies for 9.25 hours a day.</b></h2>"
      ]
    },
    {
      "cell_type": "markdown",
      "metadata": {
        "id": "sFCTKB7147oB"
      },
      "source": [
        "<h5><b>Step:9 Predicting the score of a student who studies for 9.25 hours a day.</b></h5>"
      ]
    },
    {
      "cell_type": "code",
      "metadata": {
        "colab": {
          "base_uri": "https://localhost:8080/"
        },
        "id": "Ush4GhQR5Dad",
        "outputId": "134d5feb-80f1-4539-e3ab-ac3b4f5dc924"
      },
      "source": [
        "hours = [9.25],[0]\n",
        "own_pred = reg.predict(hours)\n",
        "print(\"No of Hours = \",hours[0])\n",
        "print(\"Predicted Score = \",own_pred[0])"
      ],
      "execution_count": null,
      "outputs": [
        {
          "output_type": "stream",
          "text": [
            "No of Hours =  [9.25]\n",
            "Predicted Score =  [93.57485876]\n"
          ],
          "name": "stdout"
        }
      ]
    },
    {
      "cell_type": "markdown",
      "metadata": {
        "id": "It7g8rslFYnl"
      },
      "source": [
        ""
      ]
    }
  ]
}